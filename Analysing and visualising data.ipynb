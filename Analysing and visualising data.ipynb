{
 "cells": [
  {
   "cell_type": "code",
   "execution_count": null,
   "metadata": {
    "collapsed": true
   },
   "outputs": [],
   "source": [
    "###########################################################################################################\n",
    "# Before applying any algorithm to our data we need to analyse and visualize that data.On the basis of \n",
    "# analysation and visualiaation we will come to know that which algorithm we should apply to our data.\n",
    "# Here we have multiple independent data colomns so we cant plot thoes directally against dependant dataset,\n",
    "# so for simplification i have taken mean of each row of independant dataset and plotted the set of thoes means \n",
    "# against dependant dataset\n",
    "############################################################################################################"
   ]
  },
  {
   "cell_type": "code",
   "execution_count": 2,
   "metadata": {
    "collapsed": true
   },
   "outputs": [],
   "source": [
    "import numpy as np\n",
    "import pandas as pd\n",
    "import matplotlib.pyplot as plt"
   ]
  },
  {
   "cell_type": "code",
   "execution_count": 8,
   "metadata": {},
   "outputs": [
    {
     "data": {
      "text/html": [
       "<div>\n",
       "<style>\n",
       "    .dataframe thead tr:only-child th {\n",
       "        text-align: right;\n",
       "    }\n",
       "\n",
       "    .dataframe thead th {\n",
       "        text-align: left;\n",
       "    }\n",
       "\n",
       "    .dataframe tbody tr th {\n",
       "        vertical-align: top;\n",
       "    }\n",
       "</style>\n",
       "<table border=\"1\" class=\"dataframe\">\n",
       "  <thead>\n",
       "    <tr style=\"text-align: right;\">\n",
       "      <th></th>\n",
       "      <th>R&amp;D Spend</th>\n",
       "      <th>Administration</th>\n",
       "      <th>Marketing Spend</th>\n",
       "      <th>State</th>\n",
       "      <th>Profit</th>\n",
       "    </tr>\n",
       "  </thead>\n",
       "  <tbody>\n",
       "    <tr>\n",
       "      <th>0</th>\n",
       "      <td>165349.20</td>\n",
       "      <td>136897.80</td>\n",
       "      <td>471784.10</td>\n",
       "      <td>New York</td>\n",
       "      <td>192261.83</td>\n",
       "    </tr>\n",
       "    <tr>\n",
       "      <th>1</th>\n",
       "      <td>162597.70</td>\n",
       "      <td>151377.59</td>\n",
       "      <td>443898.53</td>\n",
       "      <td>California</td>\n",
       "      <td>191792.06</td>\n",
       "    </tr>\n",
       "    <tr>\n",
       "      <th>2</th>\n",
       "      <td>153441.51</td>\n",
       "      <td>101145.55</td>\n",
       "      <td>407934.54</td>\n",
       "      <td>Florida</td>\n",
       "      <td>191050.39</td>\n",
       "    </tr>\n",
       "    <tr>\n",
       "      <th>3</th>\n",
       "      <td>144372.41</td>\n",
       "      <td>118671.85</td>\n",
       "      <td>383199.62</td>\n",
       "      <td>New York</td>\n",
       "      <td>182901.99</td>\n",
       "    </tr>\n",
       "    <tr>\n",
       "      <th>4</th>\n",
       "      <td>142107.34</td>\n",
       "      <td>91391.77</td>\n",
       "      <td>366168.42</td>\n",
       "      <td>Florida</td>\n",
       "      <td>166187.94</td>\n",
       "    </tr>\n",
       "  </tbody>\n",
       "</table>\n",
       "</div>"
      ],
      "text/plain": [
       "   R&D Spend  Administration  Marketing Spend       State     Profit\n",
       "0  165349.20       136897.80        471784.10    New York  192261.83\n",
       "1  162597.70       151377.59        443898.53  California  191792.06\n",
       "2  153441.51       101145.55        407934.54     Florida  191050.39\n",
       "3  144372.41       118671.85        383199.62    New York  182901.99\n",
       "4  142107.34        91391.77        366168.42     Florida  166187.94"
      ]
     },
     "execution_count": 8,
     "metadata": {},
     "output_type": "execute_result"
    }
   ],
   "source": [
    "dataset=pd.read_csv('50_Startups.csv')\n",
    "dataset.head()"
   ]
  },
  {
   "cell_type": "code",
   "execution_count": 9,
   "metadata": {},
   "outputs": [
    {
     "name": "stdout",
     "output_type": "stream",
     "text": [
      "    R&D Spend  Administration  Marketing Spend       State\n",
      "0   165349.20       136897.80        471784.10    New York\n",
      "1   162597.70       151377.59        443898.53  California\n",
      "2   153441.51       101145.55        407934.54     Florida\n",
      "3   144372.41       118671.85        383199.62    New York\n",
      "4   142107.34        91391.77        366168.42     Florida\n",
      "5   131876.90        99814.71        362861.36    New York\n",
      "6   134615.46       147198.87        127716.82  California\n",
      "7   130298.13       145530.06        323876.68     Florida\n",
      "8   120542.52       148718.95        311613.29    New York\n",
      "9   123334.88       108679.17        304981.62  California\n",
      "10  101913.08       110594.11        229160.95     Florida\n",
      "11  100671.96        91790.61        249744.55  California\n",
      "12   93863.75       127320.38        249839.44     Florida\n",
      "13   91992.39       135495.07        252664.93  California\n",
      "14  119943.24       156547.42        256512.92     Florida\n",
      "15  114523.61       122616.84        261776.23    New York\n",
      "16   78013.11       121597.55        264346.06  California\n",
      "17   94657.16       145077.58        282574.31    New York\n",
      "18   91749.16       114175.79        294919.57     Florida\n",
      "19   86419.70       153514.11             0.00    New York\n",
      "20   76253.86       113867.30        298664.47  California\n",
      "21   78389.47       153773.43        299737.29    New York\n",
      "22   73994.56       122782.75        303319.26     Florida\n",
      "23   67532.53       105751.03        304768.73     Florida\n",
      "24   77044.01        99281.34        140574.81    New York\n",
      "25   64664.71       139553.16        137962.62  California\n",
      "26   75328.87       144135.98        134050.07     Florida\n",
      "27   72107.60       127864.55        353183.81    New York\n",
      "28   66051.52       182645.56        118148.20     Florida\n",
      "29   65605.48       153032.06        107138.38    New York\n",
      "30   61994.48       115641.28         91131.24     Florida\n",
      "31   61136.38       152701.92         88218.23    New York\n",
      "32   63408.86       129219.61         46085.25  California\n",
      "33   55493.95       103057.49        214634.81     Florida\n",
      "34   46426.07       157693.92        210797.67  California\n",
      "35   46014.02        85047.44        205517.64    New York\n",
      "36   28663.76       127056.21        201126.82     Florida\n",
      "37   44069.95        51283.14        197029.42  California\n",
      "38   20229.59        65947.93        185265.10    New York\n",
      "39   38558.51        82982.09        174999.30  California\n",
      "40   28754.33       118546.05        172795.67  California\n",
      "41   27892.92        84710.77        164470.71     Florida\n",
      "42   23640.93        96189.63        148001.11  California\n",
      "43   15505.73       127382.30         35534.17    New York\n",
      "44   22177.74       154806.14         28334.72  California\n",
      "45    1000.23       124153.04          1903.93    New York\n",
      "46    1315.46       115816.21        297114.46     Florida\n",
      "47       0.00       135426.92             0.00  California\n",
      "48     542.05        51743.15             0.00    New York\n",
      "49       0.00       116983.80         45173.06  California\n"
     ]
    }
   ],
   "source": [
    "x=dataset.loc[:,['R&D Spend','Administration','Marketing Spend','State']]\n",
    "y=dataset.loc[:,['Profit']]\n",
    "print(x)"
   ]
  },
  {
   "cell_type": "code",
   "execution_count": 10,
   "metadata": {},
   "outputs": [],
   "source": [
    "x=np.array(x)\n",
    "m=[]\n",
    "for i in range(0,49):\n",
    "    m.append(np.mean(x[i,0:3]))\n",
    "    \n",
    "y=np.array(y)  \n",
    "z=y[0:49,:]\n",
    "\n"
   ]
  },
  {
   "cell_type": "code",
   "execution_count": 11,
   "metadata": {},
   "outputs": [
    {
     "data": {
      "image/png": "[encoded data removed]",
      "text/plain": [
       "<Figure size 432x288 with 1 Axes>"
      ]
     },
     "metadata": {},
     "output_type": "display_data"
    }
   ],
   "source": [
    "plt.scatter(m,z,color='red')\n",
    "plt.show()"
   ]
  },
  {
   "cell_type": "code",
   "execution_count": null,
   "metadata": {
    "collapsed": true
   },
   "outputs": [],
   "source": [
    "###########################################################################################################\n",
    "# From above graph it is clear that independant data is linearlly varying with independant data.\n",
    "# Therefore we have to apply Linear Regression to solve this problem.\n",
    "##########################################################################################################"
   ]
  }
 ],
 "metadata": {
  "kernelspec": {
   "display_name": "Python 3",
   "language": "python",
   "name": "python3"
  },
  "language_info": {
   "codemirror_mode": {
    "name": "ipython",
    "version": 3
   },
   "file_extension": ".py",
   "mimetype": "text/x-python",
   "name": "python",
   "nbconvert_exporter": "python",
   "pygments_lexer": "ipython3",
   "version": "3.6.7"
  }
 },
 "nbformat": 4,
 "nbformat_minor": 2
}
